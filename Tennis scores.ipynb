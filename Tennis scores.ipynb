{
 "cells": [
  {
   "cell_type": "markdown",
   "metadata": {},
   "source": [
    "“In racquetball, a player continues to serve as long as she is winning; a point is scored only when a player is serving and wins the volley. This means that a point is not necessarily awarded on each volley. For example, if you were serving, and won the volley, you would receive one point and continue to serve. But if you were serving, and lost the volley, the serve would be handed to your opponent next and no point would be awarded. The first player to win 21 points wins the game. Assume that you serve first and have probability 0.6 of winning a volley when you serve and probability 0.5 when your opponent serves. Estimate, by simulation, the probability that you will win a game” "
   ]
  },
  {
   "cell_type": "code",
   "execution_count": 32,
   "metadata": {},
   "outputs": [
    {
     "name": "stdout",
     "output_type": "stream",
     "text": [
      "0.40004 40004\n"
     ]
    }
   ],
   "source": [
    "import random \n",
    "mywins = 0\n",
    "\n",
    "for i in range(10000):\n",
    "    pointA = 0\n",
    "    serve = True \n",
    "    while pointA < 21:  \n",
    "        while serve == True:\n",
    "            win = random.random()\n",
    "            if win <= 0.6:\n",
    "                pointA += 1\n",
    "            else:\n",
    "                serve = False\n",
    "                break\n",
    "        \n",
    "        while serve == False:\n",
    "            win = random.random()\n",
    "            if win <= 0.5:\n",
    "                serve = True\n",
    "                break\n",
    "        if pointA == 21:\n",
    "            mywins += 1\n",
    "                \n",
    "probwins = mywins/10000\n",
    "print(probwins, mywins)"
   ]
  },
  {
   "cell_type": "code",
   "execution_count": null,
   "metadata": {},
   "outputs": [],
   "source": []
  }
 ],
 "metadata": {
  "kernelspec": {
   "display_name": "Python 3",
   "language": "python",
   "name": "python3"
  },
  "language_info": {
   "codemirror_mode": {
    "name": "ipython",
    "version": 3
   },
   "file_extension": ".py",
   "mimetype": "text/x-python",
   "name": "python",
   "nbconvert_exporter": "python",
   "pygments_lexer": "ipython3",
   "version": "3.8.3"
  }
 },
 "nbformat": 4,
 "nbformat_minor": 4
}
