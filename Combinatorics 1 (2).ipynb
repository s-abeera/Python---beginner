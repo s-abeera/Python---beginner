{
 "cells": [
  {
   "cell_type": "code",
   "execution_count": 4,
   "metadata": {},
   "outputs": [
    {
     "name": "stdout",
     "output_type": "stream",
     "text": [
      "Probability of first success on the 2 th trial: 0.21 \n",
      "\n",
      "Probability of  50 successes in 100 trials: 1.3026227131445298e-05\n"
     ]
    }
   ],
   "source": [
    "from scipy import stats\n",
    "\n",
    "#Geometric Distribution\n",
    "\n",
    "p = 0.3\n",
    "\n",
    "n = 2\n",
    "\n",
    "print(\"Probability of first success on the\",n,\"th trial:\",stats.geom.pmf(n,p),\"\\n\")\n",
    "\n",
    "\n",
    "\n",
    "#Binomial Distribution\n",
    "\n",
    "p = 0.3\n",
    "\n",
    "n = 100\n",
    "\n",
    "k = 50\n",
    "\n",
    "print(\"Probability of \",k,\"successes in\",n,\"trials:\",stats.binom.pmf(k,n,p))\n",
    "\n"
   ]
  },
  {
   "cell_type": "code",
   "execution_count": 5,
   "metadata": {},
   "outputs": [
    {
     "data": {
      "text/plain": [
       "0.21"
      ]
     },
     "execution_count": 5,
     "metadata": {},
     "output_type": "execute_result"
    }
   ],
   "source": [
    "\n",
    "def geometric(p,n):\n",
    "    prob = ((1-p)**(n-1))*(p)\n",
    "    return prob\n",
    "\n",
    "geometric(0.3,2)\n",
    "\n",
    "def factorial(a):\n",
    "    fct = 1\n",
    "    for i in range(n):\n",
    "        fct = fct*(n-i)\n",
    "\n",
    "def binomial(n,k,p):\n",
    "    combo = factorial(n)/(factorial(k)*facotiral(n-k))\n",
    "    "
   ]
  },
  {
   "cell_type": "code",
   "execution_count": 18,
   "metadata": {},
   "outputs": [
    {
     "name": "stdout",
     "output_type": "stream",
     "text": [
      "10.0\n"
     ]
    }
   ],
   "source": [
    "def factorial(a):\n",
    "    fct = 1\n",
    "    for i in range(a):\n",
    "        fct = fct*(a-i)\n",
    "    return fct\n",
    "\n",
    "        \n",
    "def binomial(n,k):\n",
    "    d = factorial(k) \n",
    "    e = factorial(n-k)\n",
    "    f = factorial(n)\n",
    "    combo = f/(d*e)\n",
    "    return(combo)\n",
    "    \n",
    "print(binomial(5,2))"
   ]
  },
  {
   "cell_type": "code",
   "execution_count": null,
   "metadata": {},
   "outputs": [],
   "source": []
  }
 ],
 "metadata": {
  "kernelspec": {
   "display_name": "Python 3",
   "language": "python",
   "name": "python3"
  },
  "language_info": {
   "codemirror_mode": {
    "name": "ipython",
    "version": 3
   },
   "file_extension": ".py",
   "mimetype": "text/x-python",
   "name": "python",
   "nbconvert_exporter": "python",
   "pygments_lexer": "ipython3",
   "version": "3.8.3"
  }
 },
 "nbformat": 4,
 "nbformat_minor": 4
}
